{
 "cells": [
  {
   "cell_type": "markdown",
   "id": "983d7ca7-e549-44d0-aed7-f5987dacef96",
   "metadata": {},
   "source": [
    "<h1 style=\"text-align: center;\"> XSLICE By Python</h1>\n",
    "\n",
    "<h2 style=\"text-align: center;\"> A Python Code To Start the XSLICE Interface <br></h2>\n",
    "\n",
    " \n",
    "\n",
    "<h3 style=\"text-align: center;\">A SDSU Climate Informatics Lab (SCIL) Product</h3>\n",
    "\n",
    "<h3 style=\"text-align: center;\">A Python code written by </h3>\n",
    "\n",
    "<h3 style=\"text-align: center;\">Thomas Q. Bui, Maximilliano Ramirez, Danielle Lafarga, and Samuel S.P. Shen <br><br></h3>\n",
    "\n",
    "<p style=\"text-align: center;\">Science contribution also from Y. Tony Song and Efi Foufoula-Georgiou </p>\n",
    "\n",
    "<p style=\"text-align: center;\"> Project and Lab Director: Samuel S.P.  Shen </p>\n",
    "\n",
    "<p style=\"text-align: center;\">San Diego State University, August 2024, Version 1.0</p>"
   ]
  },
  {
   "cell_type": "code",
   "execution_count": null,
   "id": "26f91ba9-f338-4762-af4b-1a894b5c9ac7",
   "metadata": {},
   "outputs": [],
   "source": [
    "#Only run this the first time XSLICE is used\n",
    "!pip3 install -r requirements.txt"
   ]
  },
  {
   "cell_type": "code",
   "execution_count": null,
   "id": "ba7d7441",
   "metadata": {
    "ExecuteTime": {
     "end_time": "2023-04-01T10:12:24.372353Z",
     "start_time": "2023-04-01T10:12:16.616529Z"
    }
   },
   "outputs": [],
   "source": [
    "# IMPORTING PACKAGES\n",
    "from user_interface import ui\n",
    "from data_download import download_data\n",
    "from output import output\n",
    "import os\n",
    "import matplotlib\n",
    "import matplotlib.font_manager\n",
    "import imageio_ffmpeg"
   ]
  },
  {
   "cell_type": "markdown",
   "id": "13846211-ceed-4891-abf2-a245cb5c234c",
   "metadata": {},
   "source": [
    "#### Data download step\n",
    "##### Remove the '#' from the next line and run only if the data is not yet downloaded"
   ]
  },
  {
   "cell_type": "code",
   "execution_count": null,
   "id": "74ec7789-fe58-4719-8a3f-a2d1195a6e33",
   "metadata": {},
   "outputs": [],
   "source": [
    "#download_data() "
   ]
  },
  {
   "cell_type": "markdown",
   "id": "ecdca8c1-ce3c-458b-953e-d88eeadfb519",
   "metadata": {},
   "source": [
    "#### Working directory step\n",
    "##### Replace the default 'GODAS_data' with another directory if you have moved the downloaded data. "
   ]
  },
  {
   "cell_type": "code",
   "execution_count": null,
   "id": "1c283092",
   "metadata": {
    "ExecuteTime": {
     "end_time": "2023-04-01T10:12:24.389249Z",
     "start_time": "2023-04-01T10:12:24.382115Z"
    }
   },
   "outputs": [],
   "source": [
    "os.chdir(\"GODAS_data\")"
   ]
  },
  {
   "cell_type": "code",
   "execution_count": null,
   "id": "06b48609-8ffe-4b94-b2fb-ff6af5e505a7",
   "metadata": {},
   "outputs": [],
   "source": [
    "matplotlib.rcParams[\"animation.ffmpeg_path\"] = imageio_ffmpeg.get_ffmpeg_exe()"
   ]
  },
  {
   "cell_type": "code",
   "execution_count": null,
   "id": "430c9907-b0d1-484a-a809-d78d88d2c669",
   "metadata": {},
   "outputs": [],
   "source": [
    "import warnings\n",
    "warnings.filterwarnings(\"ignore\", category=RuntimeWarning, message=\"overflow encountered in multiply\")"
   ]
  },
  {
   "cell_type": "code",
   "execution_count": null,
   "id": "0db2b604-ea03-45bd-80b5-56def6c0984b",
   "metadata": {},
   "outputs": [],
   "source": [
    "display(ui(), output())"
   ]
  }
 ],
 "metadata": {
  "kernelspec": {
   "display_name": "Python 3 (ipykernel)",
   "language": "python",
   "name": "python3"
  },
  "language_info": {
   "codemirror_mode": {
    "name": "ipython",
    "version": 3
   },
   "file_extension": ".py",
   "mimetype": "text/x-python",
   "name": "python",
   "nbconvert_exporter": "python",
   "pygments_lexer": "ipython3",
   "version": "3.11.5"
  }
 },
 "nbformat": 4,
 "nbformat_minor": 5
}
