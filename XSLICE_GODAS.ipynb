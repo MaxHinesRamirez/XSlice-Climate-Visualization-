{
 "cells": [
  {
   "cell_type": "code",
   "execution_count": 1,
   "id": "ba7d7441",
   "metadata": {
    "ExecuteTime": {
     "end_time": "2023-04-01T10:12:24.372353Z",
     "start_time": "2023-04-01T10:12:16.616529Z"
    }
   },
   "outputs": [],
   "source": [
    "# IMPORTING PACKAGES\n",
    "from user_interface import ui\n",
    "from data_download import download_data\n",
    "from output import output\n",
    "import os\n",
    "import matplotlib\n",
    "import matplotlib.font_manager"
   ]
  },
  {
   "cell_type": "code",
   "execution_count": 2,
   "id": "1c283092",
   "metadata": {
    "ExecuteTime": {
     "end_time": "2023-04-01T10:12:24.389249Z",
     "start_time": "2023-04-01T10:12:24.382115Z"
    }
   },
   "outputs": [],
   "source": [
    "#download_data() #Only run this line if data is not yet downloaded\n",
    "os.chdir(\"GODAS data\")"
   ]
  },
  {
   "cell_type": "code",
   "execution_count": 3,
   "id": "430c9907-b0d1-484a-a809-d78d88d2c669",
   "metadata": {},
   "outputs": [],
   "source": [
    "import warnings\n",
    "warnings.filterwarnings(\"ignore\", category=RuntimeWarning, message=\"overflow encountered in multiply\")"
   ]
  },
  {
   "cell_type": "code",
   "execution_count": 4,
   "id": "0db2b604-ea03-45bd-80b5-56def6c0984b",
   "metadata": {},
   "outputs": [
    {
     "data": {
      "text/html": [
       "\n",
       "    <style>\n",
       "    .widget-label, \n",
       "    .widget-select select, \n",
       "    .widget-slider input, \n",
       "    .widget-toggle-button button, \n",
       "    .widget-dropdown select,\n",
       "    .widget-SelectionRangeSlider\n",
       "    .widget-text input, \n",
       "    .widget-boundedfloattext input {\n",
       "        font-size: 18px !important;\n",
       "    }\n",
       "    .widget-button button {\n",
       "        font-size: 18px !important;\n",
       "    }\n",
       "    .tabs .widget-tab .tab {\n",
       "        font-size: 18px !important;  \n",
       "    }\n",
       "    </style>\n",
       "    "
      ],
      "text/plain": [
       "<IPython.core.display.HTML object>"
      ]
     },
     "metadata": {},
     "output_type": "display_data"
    },
    {
     "data": {
      "application/vnd.jupyter.widget-view+json": {
       "model_id": "d68b8b4e87e741c7a34ebf5f24f9d839",
       "version_major": 2,
       "version_minor": 0
      },
      "text/plain": [
       "Tab(children=(HBox(children=(Image(value=b'\\x89PNG\\r\\n\\x1a\\n\\x00\\x00\\x00\\rIHDR\\x00\\x00\\x02\\xbc\\x00\\x00\\x01\\x90…"
      ]
     },
     "metadata": {},
     "output_type": "display_data"
    },
    {
     "data": {
      "application/vnd.jupyter.widget-view+json": {
       "model_id": "6ab9963159344a00a13988dfc25f4a3b",
       "version_major": 2,
       "version_minor": 0
      },
      "text/plain": [
       "Output()"
      ]
     },
     "metadata": {},
     "output_type": "display_data"
    }
   ],
   "source": [
    "display(ui(), output())"
   ]
  },
  {
   "cell_type": "code",
   "execution_count": null,
   "id": "d8a542be-9e1d-41c5-903b-8357ab3cb53a",
   "metadata": {},
   "outputs": [],
   "source": []
  }
 ],
 "metadata": {
  "kernelspec": {
   "display_name": "Python 3 (ipykernel)",
   "language": "python",
   "name": "python3"
  },
  "language_info": {
   "codemirror_mode": {
    "name": "ipython",
    "version": 3
   },
   "file_extension": ".py",
   "mimetype": "text/x-python",
   "name": "python",
   "nbconvert_exporter": "python",
   "pygments_lexer": "ipython3",
   "version": "3.11.5"
  }
 },
 "nbformat": 4,
 "nbformat_minor": 5
}
